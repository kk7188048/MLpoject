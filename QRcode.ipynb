{
  "nbformat": 4,
  "nbformat_minor": 0,
  "metadata": {
    "colab": {
      "provenance": [],
      "authorship_tag": "ABX9TyNeO3REh1uLLBmCD3XLNgUA",
      "include_colab_link": true
    },
    "kernelspec": {
      "name": "python3",
      "display_name": "Python 3"
    },
    "language_info": {
      "name": "python"
    }
  },
  "cells": [
    {
      "cell_type": "markdown",
      "metadata": {
        "id": "view-in-github",
        "colab_type": "text"
      },
      "source": [
        "<a href=\"https://colab.research.google.com/github/kk7188048/MLpoject/blob/main/QRcode.ipynb\" target=\"_parent\"><img src=\"https://colab.research.google.com/assets/colab-badge.svg\" alt=\"Open In Colab\"/></a>"
      ]
    },
    {
      "cell_type": "markdown",
      "source": [
        "**QRCode Genertor**"
      ],
      "metadata": {
        "id": "QEne5qMFXPyC"
      }
    },
    {
      "cell_type": "code",
      "execution_count": 18,
      "metadata": {
        "colab": {
          "base_uri": "https://localhost:8080/"
        },
        "id": "_VvcJp7I_hW3",
        "outputId": "3e4242ec-22c8-4838-d194-773a0e6f012a"
      },
      "outputs": [
        {
          "output_type": "stream",
          "name": "stdout",
          "text": [
            "Requirement already satisfied: qrcode in /usr/local/lib/python3.10/dist-packages (7.4.2)\n",
            "Requirement already satisfied: typing-extensions in /usr/local/lib/python3.10/dist-packages (from qrcode) (4.5.0)\n",
            "Requirement already satisfied: pypng in /usr/local/lib/python3.10/dist-packages (from qrcode) (0.20220715.0)\n"
          ]
        }
      ],
      "source": [
        "pip install qrcode"
      ]
    },
    {
      "cell_type": "code",
      "source": [
        "import qrcode as qr\n",
        "img = qr.make(\"https://leetcode.com/studyplan/top-interview-150/\")\n",
        "img.save(\"leetcode.png\")"
      ],
      "metadata": {
        "id": "xazuhNFUAT8I"
      },
      "execution_count": 28,
      "outputs": []
    },
    {
      "cell_type": "code",
      "source": [
        "from PIL import Image\n",
        "q = qr.QRCode(\n",
        "    version=1,\n",
        "    error_correction=qr.constants.ERROR_CORRECT_H,\n",
        "    box_size=10,\n",
        "    border=4,\n",
        ")\n",
        "q.add_data('https://leetcode.com/studyplan/top-interview-150/')\n",
        "q.make(fit=True)\n",
        "img = q.make_image(fill_color='red', back_color='white')\n",
        "img.save(\"leet.png\")\n",
        "img.show()\n"
      ],
      "metadata": {
        "id": "SYj_DI1XD2dc"
      },
      "execution_count": 35,
      "outputs": []
    }
  ]
}