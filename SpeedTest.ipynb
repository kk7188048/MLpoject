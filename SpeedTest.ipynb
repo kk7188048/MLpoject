{
  "nbformat": 4,
  "nbformat_minor": 0,
  "metadata": {
    "colab": {
      "provenance": [],
      "authorship_tag": "ABX9TyOTBCWE4dIfB7u9Sbzkd8QM",
      "include_colab_link": true
    },
    "kernelspec": {
      "name": "python3",
      "display_name": "Python 3"
    },
    "language_info": {
      "name": "python"
    }
  },
  "cells": [
    {
      "cell_type": "markdown",
      "metadata": {
        "id": "view-in-github",
        "colab_type": "text"
      },
      "source": [
        "<a href=\"https://colab.research.google.com/github/kk7188048/MLpoject/blob/main/SpeedTest.ipynb\" target=\"_parent\"><img src=\"https://colab.research.google.com/assets/colab-badge.svg\" alt=\"Open In Colab\"/></a>"
      ]
    },
    {
      "cell_type": "code",
      "execution_count": 1,
      "metadata": {
        "id": "s1umwxqLddcE"
      },
      "outputs": [],
      "source": [
        "from time import *"
      ]
    },
    {
      "cell_type": "code",
      "source": [
        "import random as r\n"
      ],
      "metadata": {
        "id": "BeJ-Ww64vdXT"
      },
      "execution_count": 2,
      "outputs": []
    },
    {
      "cell_type": "code",
      "source": [
        "def mistake(paraTest, unitTest):\n",
        "  error = 1\n",
        "  for i in range(len(paraTest)):\n",
        "    try:\n",
        "      if paraTest[i] != unitTest[i]:\n",
        "        error = error+1\n",
        "    except :\n",
        "      error = error+1\n",
        "  return error\n",
        "\n",
        "def speed(tiem_s, time_e, userinput):\n",
        "  timeDelay = time_e-time_s\n",
        "  time_RoundOFF = round(timeDelay, 2)\n",
        "  speed = len(userinput)/time_RoundOFF\n",
        "  return round(speed)\n",
        "\n",
        "test = [\"My name is krishna kumar. I am working as a python developer\", \"Hope you have a nice day\"]\n",
        "test1 = r.choice(test)\n",
        "print(\"       ******* Typing Speed test*********\"        )\n",
        "print(test1)\n",
        "print()\n",
        "print()\n",
        "time_s = time()\n",
        "testinput = input(\"Enter\")\n",
        "time_e = time()\n",
        "print(\"Speed : \", speed(time_s, time_e, testinput), \"Words per Second\")\n",
        "print(\"Error :\", mistake(test1, testinput))\n",
        "\n"
      ],
      "metadata": {
        "colab": {
          "base_uri": "https://localhost:8080/"
        },
        "id": "kthi0-xnqQQX",
        "outputId": "acf4267b-3d6d-44a5-8ffa-6469d874f94c"
      },
      "execution_count": 5,
      "outputs": [
        {
          "output_type": "stream",
          "name": "stdout",
          "text": [
            "       ******* Typing Speed test*********\n",
            "My name is krishna kumar. I am working as a python developer\n",
            "\n",
            "\n",
            "Enterjkdsfasf\n",
            "Speed :  2 Words per Second\n",
            "Error : 61\n"
          ]
        }
      ]
    }
  ]
}