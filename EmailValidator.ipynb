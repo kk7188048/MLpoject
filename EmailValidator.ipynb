{
  "nbformat": 4,
  "nbformat_minor": 0,
  "metadata": {
    "colab": {
      "provenance": [],
      "authorship_tag": "ABX9TyO7iPMMKFPHQIQSyXjzsQCi",
      "include_colab_link": true
    },
    "kernelspec": {
      "name": "python3",
      "display_name": "Python 3"
    },
    "language_info": {
      "name": "python"
    }
  },
  "cells": [
    {
      "cell_type": "markdown",
      "metadata": {
        "id": "view-in-github",
        "colab_type": "text"
      },
      "source": [
        "<a href=\"https://colab.research.google.com/github/kk7188048/MLpoject/blob/main/EmailValidator.ipynb\" target=\"_parent\"><img src=\"https://colab.research.google.com/assets/colab-badge.svg\" alt=\"Open In Colab\"/></a>"
      ]
    },
    {
      "cell_type": "code",
      "execution_count": 3,
      "metadata": {
        "colab": {
          "base_uri": "https://localhost:8080/"
        },
        "id": "s1umwxqLddcE",
        "outputId": "9998d5dc-c72f-4125-8805-bdc05319604f"
      },
      "outputs": [
        {
          "output_type": "stream",
          "name": "stdout",
          "text": [
            "Entet Your email here : kka\n",
            "Email Wrong at step 1\n"
          ]
        }
      ],
      "source": [
        "email = input(\"Entet Your email here : \")\n",
        "j,k,d= 0,0,0\n",
        "if len(email)>=6:\n",
        "  if email[0].isalpha():\n",
        "    if ('@' in email) and (email.count('@')==1):\n",
        "      if (email[-4]==\".\") ^ (email[-3]==\".\"):##here we are using xor method for choosing one of the in if\n",
        "        for i in email:\n",
        "          if i==i.isspace():\n",
        "            k = 1\n",
        "          elif i.isalpha():\n",
        "            if i==i.isupper():##w==W so its wrong\n",
        "              j = 1\n",
        "          elif i.isdigit():\n",
        "            continue\n",
        "          elif i==\"_\" or i==\".\" or i==\"@\":\n",
        "            continue\n",
        "          else:\n",
        "            d=1\n",
        "        if k==1 or j==1 or d==1:\n",
        "          print(\"Email is wrong at 5\")\n",
        "      else:\n",
        "        print(\"Wrong email at step 4\")\n",
        "    else:\n",
        "      print(\"Email is wrong at step 3\")\n",
        "  else:\n",
        "    print(\"Email wrong at step 2\")\n",
        "else:\n",
        "  print(\"Email Wrong at step 1\")"
      ]
    }
  ]
}