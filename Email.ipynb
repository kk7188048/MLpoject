{
  "nbformat": 4,
  "nbformat_minor": 0,
  "metadata": {
    "colab": {
      "provenance": [],
      "authorship_tag": "ABX9TyO1avnwa/Y7Epy14uJR2lL/",
      "include_colab_link": true
    },
    "kernelspec": {
      "name": "python3",
      "display_name": "Python 3"
    },
    "language_info": {
      "name": "python"
    }
  },
  "cells": [
    {
      "cell_type": "markdown",
      "metadata": {
        "id": "view-in-github",
        "colab_type": "text"
      },
      "source": [
        "<a href=\"https://colab.research.google.com/github/kk7188048/MLpoject/blob/main/Email.ipynb\" target=\"_parent\"><img src=\"https://colab.research.google.com/assets/colab-badge.svg\" alt=\"Open In Colab\"/></a>"
      ]
    },
    {
      "cell_type": "code",
      "execution_count": 4,
      "metadata": {
        "colab": {
          "base_uri": "https://localhost:8080/"
        },
        "id": "s1umwxqLddcE",
        "outputId": "94b50433-2413-4907-8ac8-fb90826397bd"
      },
      "outputs": [
        {
          "output_type": "stream",
          "name": "stdout",
          "text": [
            "Collecting secure-smtplib\n",
            "  Downloading secure_smtplib-0.1.1-py2.py3-none-any.whl (3.4 kB)\n",
            "Installing collected packages: secure-smtplib\n",
            "Successfully installed secure-smtplib-0.1.1\n"
          ]
        }
      ],
      "source": [
        "!pip install secure-smtplib\n",
        "\n"
      ]
    },
    {
      "cell_type": "code",
      "source": [
        "import smtplib as s\n",
        "from email.mime.text import MIMEText\n"
      ],
      "metadata": {
        "id": "BeJ-Ww64vdXT"
      },
      "execution_count": 14,
      "outputs": []
    },
    {
      "cell_type": "code",
      "source": [
        "# mail = s.SMTP('smtp.googlemail.com', 587)\n",
        "# mail.ehlo()\n",
        "# mail.starttls()\n",
        "# mail.login('krishnakumar73nm@gmail.com', '***********')\n",
        "# sub = \"testing python\"\n",
        "# body = \"I love ML and AI with development in python\"\n",
        "# message = \"sub:{}/n/n{}\".format(sub, body)\n",
        "# listadd = ['kk7188048@gmail.com', 'bk7579kumar@gmail.com']\n",
        "# mail.sendmail('krishnakumar73nm@gmail.com', listadd, message)\n",
        "# print(\"Mails are sent\")\n",
        "# mail.quit()\n",
        "\n",
        "from email.mime.text import MIMEText\n",
        "\n",
        "mail = s.SMTP('smtp.gmail.com', 587)\n",
        "mail.ehlo()\n",
        "mail.starttls()\n",
        "mail.login('krishnakumar73nm@gmail.com', 'brbldifnjcddymvd')\n",
        "\n",
        "sub = \"Testing Python\"\n",
        "body = \"I love ML and AI with development in Python\"\n",
        "message = f\"Subject: {sub}\\n\\n{body}\"\n",
        "\n",
        "listadd = ['kk7188048@gmail.com', 'bk7579kumar@gmail.com']\n",
        "\n",
        "mail.sendmail('krishnakumar73nm@gmail.com', listadd, message)\n",
        "print(\"Mails are sent\")\n",
        "\n",
        "mail.quit()\n"
      ],
      "metadata": {
        "colab": {
          "base_uri": "https://localhost:8080/"
        },
        "id": "kthi0-xnqQQX",
        "outputId": "6ec7c3b8-e089-4a49-b8c9-5fe1547121f9"
      },
      "execution_count": 17,
      "outputs": [
        {
          "output_type": "stream",
          "name": "stdout",
          "text": [
            "Mails are sent\n"
          ]
        },
        {
          "output_type": "execute_result",
          "data": {
            "text/plain": [
              "(221,\n",
              " b'2.0.0 closing connection j14-20020ab06cae000000b007cc9ca66459sm529571uaa.13 - gsmtp')"
            ]
          },
          "metadata": {},
          "execution_count": 17
        }
      ]
    }
  ]
}